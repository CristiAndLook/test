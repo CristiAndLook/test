{
 "cells": [
  {
   "cell_type": "code",
   "execution_count": 1,
   "metadata": {},
   "outputs": [],
   "source": [
    "import pandas as pd\n",
    "import seaborn as sns\n",
    "import matplotlib.pyplot as plt\n",
    "\n",
    "#Importar información de las ciudades\n",
    "ciudades = pd.read_csv('./data/Question_2_data/question_2_part1.csv')\n",
    "\n",
    "#Importar información de los pedidos\n",
    "ordenes = pd.read_csv('./data/Question_2_data/question_2.csv')\n"
   ]
  },
  {
   "cell_type": "code",
   "execution_count": 2,
   "metadata": {},
   "outputs": [
    {
     "name": "stdout",
     "output_type": "stream",
     "text": [
      "         store_id    order_id          created_at  city_address_id\n",
      "26      450123655  1084998940 2023-10-07 00:04:43                3\n",
      "28      450080973  1085002181 2023-10-07 02:02:54                5\n",
      "38      450080954  1085002182 2023-10-07 02:03:00                5\n",
      "54      450064872  1085002396 2023-10-07 02:14:39                5\n",
      "58      450138238  1085003345 2023-10-07 03:21:23                5\n",
      "...           ...         ...                 ...              ...\n",
      "117590  450088453  1085165817 2023-10-08 02:05:53                5\n",
      "117608  450137839  1085166485 2023-10-08 02:41:07                5\n",
      "117772  450064728  1085166134 2023-10-08 02:21:24                2\n",
      "117773  450080952  1085166161 2023-10-08 02:22:45                5\n",
      "117774  450064728  1085166184 2023-10-08 02:24:08                2\n",
      "\n",
      "[2953 rows x 4 columns]\n"
     ]
    }
   ],
   "source": [
    "#Convertir la columna 'created_at' a tipo datetime\n",
    "ordenes['created_at'] = pd.to_datetime(ordenes['created_at'])\n",
    "\n",
    "#Crear un diccionario con los intervalos de tiempo para cada ciudad\n",
    "city_intervals = dict(zip(ciudades['city_address_id'], ciudades.apply(lambda row: (pd.to_datetime(row['starts_at'], format='%H:%M:%S').time(), pd.to_datetime(row['ends_at'], format='%H:%M:%S').time()), axis=1)))\n",
    "\n",
    "#Función para verificar si una orden viola las restricciones de la ciudad\n",
    "def is_order_violating_restriction(order):\n",
    "    city_id = order['city_address_id']\n",
    "    start_time, end_time = city_intervals.get(city_id, (None, None))\n",
    "    if start_time and end_time:\n",
    "        order_time = order['created_at'].time()\n",
    "        if start_time <= end_time:\n",
    "            return not (start_time <= order_time <= end_time)\n",
    "        else:\n",
    "            return order_time < start_time and order_time > end_time\n",
    "    return False\n",
    "\n",
    "#Aplicar la función para encontrar las órdenes que violan las restricciones\n",
    "violating_orders = ordenes[ordenes.apply(is_order_violating_restriction, axis=1)]\n",
    "\n",
    "#Imprimir las órdenes que violan las restricciones\n",
    "columns_to_display = ['store_id', 'order_id', 'created_at', 'city_address_id']\n",
    "print(violating_orders[columns_to_display])\n"
   ]
  },
  {
   "cell_type": "code",
   "execution_count": 3,
   "metadata": {},
   "outputs": [],
   "source": [
    "orders_ids = violating_orders['order_id'].unique()\n",
    "print(orders_ids)"
   ]
  },
  {
   "cell_type": "code",
   "execution_count": 4,
   "metadata": {},
   "outputs": [
    {
     "data": {
      "text/plain": [
       "2653"
      ]
     },
     "execution_count": 4,
     "metadata": {},
     "output_type": "execute_result"
    }
   ],
   "source": [
    "len(orders_ids)"
   ]
  },
  {
   "cell_type": "code",
   "execution_count": 5,
   "metadata": {},
   "outputs": [
    {
     "name": "stderr",
     "output_type": "stream",
     "text": [
      "/tmp/ipykernel_2912/3518200302.py:9: FutureWarning: \n",
      "\n",
      "Passing `palette` without assigning `hue` is deprecated and will be removed in v0.14.0. Assign the `x` variable to `hue` and set `legend=False` for the same effect.\n",
      "\n",
      "  sns.barplot(x='city_address_id', y='order_count', data=order_counts, palette=sns.color_palette(colores_personalizados))\n"
     ]
    },
    {
     "data": {
      "image/png": "[encoded data removed]",
      "text/plain": [
       "<Figure size 600x300 with 1 Axes>"
      ]
     },
     "metadata": {},
     "output_type": "display_data"
    }
   ],
   "source": [
    "#Contar las órdenes por city_address_id\n",
    "order_counts = violating_orders['city_address_id'].value_counts().reset_index()\n",
    "order_counts.columns = ['city_address_id', 'order_count']\n",
    "\n",
    "colores_personalizados = [\"#4A4A4A01\", \"#33FF57\", \"#334DFF\"]\n",
    "#Graficar los resultados\n",
    "sns.set(style=\"whitegrid\")\n",
    "plt.figure(figsize=(6, 3))\n",
    "sns.barplot(x='city_address_id', y='order_count', data=order_counts, palette=sns.color_palette(colores_personalizados))\n",
    "plt.xlabel('city_address_id')\n",
    "plt.ylabel('Número de Órdenes')\n",
    "plt.title('Órdenes que Violan Restricciones por Ciudad')\n",
    "plt.show()"
   ]
  },
  {
   "cell_type": "code",
   "execution_count": 6,
   "metadata": {},
   "outputs": [
    {
     "data": {
      "text/html": [
       "<div>\n",
       "<style scoped>\n",
       "    .dataframe tbody tr th:only-of-type {\n",
       "        vertical-align: middle;\n",
       "    }\n",
       "\n",
       "    .dataframe tbody tr th {\n",
       "        vertical-align: top;\n",
       "    }\n",
       "\n",
       "    .dataframe thead th {\n",
       "        text-align: right;\n",
       "    }\n",
       "</style>\n",
       "<table border=\"1\" class=\"dataframe\">\n",
       "  <thead>\n",
       "    <tr style=\"text-align: right;\">\n",
       "      <th></th>\n",
       "      <th>city_address_id</th>\n",
       "      <th>order_count</th>\n",
       "    </tr>\n",
       "  </thead>\n",
       "  <tbody>\n",
       "    <tr>\n",
       "      <th>0</th>\n",
       "      <td>5</td>\n",
       "      <td>1808</td>\n",
       "    </tr>\n",
       "    <tr>\n",
       "      <th>1</th>\n",
       "      <td>2</td>\n",
       "      <td>979</td>\n",
       "    </tr>\n",
       "    <tr>\n",
       "      <th>2</th>\n",
       "      <td>3</td>\n",
       "      <td>166</td>\n",
       "    </tr>\n",
       "  </tbody>\n",
       "</table>\n",
       "</div>"
      ],
      "text/plain": [
       "   city_address_id  order_count\n",
       "0                5         1808\n",
       "1                2          979\n",
       "2                3          166"
      ]
     },
     "execution_count": 6,
     "metadata": {},
     "output_type": "execute_result"
    }
   ],
   "source": [
    "order_counts"
   ]
  }
 ],
 "metadata": {
  "kernelspec": {
   "display_name": "venv",
   "language": "python",
   "name": "python3"
  },
  "language_info": {
   "codemirror_mode": {
    "name": "ipython",
    "version": 3
   },
   "file_extension": ".py",
   "mimetype": "text/x-python",
   "name": "python",
   "nbconvert_exporter": "python",
   "pygments_lexer": "ipython3",
   "version": "3.10.12"
  }
 },
 "nbformat": 4,
 "nbformat_minor": 2
}
